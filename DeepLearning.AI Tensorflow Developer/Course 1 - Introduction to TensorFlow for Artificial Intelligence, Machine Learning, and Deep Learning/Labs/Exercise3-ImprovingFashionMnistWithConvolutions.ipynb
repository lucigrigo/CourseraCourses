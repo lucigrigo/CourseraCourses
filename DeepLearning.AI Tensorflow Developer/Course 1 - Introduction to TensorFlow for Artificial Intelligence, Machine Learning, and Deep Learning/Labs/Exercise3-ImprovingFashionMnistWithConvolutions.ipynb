{
 "cells": [
  {
   "cell_type": "markdown",
   "metadata": {
    "colab_type": "text",
    "id": "iQjHqsmTAVLU"
   },
   "source": [
    "## Exercise 3\n",
    "In the videos you looked at how you would improve Fashion MNIST using Convolutions. For your exercise see if you can improve MNIST to 99.8% accuracy or more using only a single convolutional layer and a single MaxPooling 2D. You should stop training once the accuracy goes above this amount. It should happen in less than 20 epochs, so it's ok to hard code the number of epochs for training, but your training must end once it hits the above metric. If it doesn't, then you'll need to redesign your layers.\n",
    "\n",
    "I've started the code for you -- you need to finish it!\n",
    "\n",
    "When 99.8% accuracy has been hit, you should print out the string \"Reached 99.8% accuracy so cancelling training!\"\n"
   ]
  },
  {
   "cell_type": "code",
   "execution_count": 1,
   "metadata": {},
   "outputs": [],
   "source": [
    "import tensorflow as tf\n",
    "from os import path, getcwd, chdir\n",
    "\n",
    "# DO NOT CHANGE THE LINE BELOW. If you are developing in a local\n",
    "# environment, then grab mnist.npz from the Coursera Jupyter Notebook\n",
    "# and place it inside a local folder and edit the path to that location\n",
    "path = f\"{getcwd()}/../tmp2/mnist.npz\""
   ]
  },
  {
   "cell_type": "code",
   "execution_count": 2,
   "metadata": {},
   "outputs": [],
   "source": [
    "config = tf.ConfigProto()\n",
    "config.gpu_options.allow_growth = True\n",
    "sess = tf.Session(config=config)"
   ]
  },
  {
   "cell_type": "code",
   "execution_count": 10,
   "metadata": {},
   "outputs": [],
   "source": [
    "class MyCallback(tf.keras.callbacks.Callback):\n",
    "    '''\n",
    "        Callback object that stops training upon reaching 99.8% accuracy.\n",
    "    '''\n",
    "    def on_epoch_end(self, epoch, logs={}):\n",
    "        if(logs.get('acc') >= 0.998):\n",
    "            print('\\nReached 99.8% accuracy so cancelling training!')\n",
    "            self.model.stop_training = True\n",
    "\n",
    "# GRADED FUNCTION: train_mnist_conv\n",
    "def train_mnist_conv():\n",
    "    # Please write your code only where you are indicated.\n",
    "    # please do not remove model fitting inline comments.\n",
    "\n",
    "    # YOUR CODE STARTS HERE\n",
    "    my_callback = MyCallback()\n",
    "    # YOUR CODE ENDS HERE\n",
    "\n",
    "    mnist = tf.keras.datasets.mnist\n",
    "    (training_images, training_labels), (test_images, test_labels) = mnist.load_data(path=path)\n",
    "    # YOUR CODE STARTS HERE\n",
    "    training_images = training_images.reshape(60000, 28, 28, 1)\n",
    "    test_images = test_images.reshape(10000, 28, 28, 1)\n",
    "    training_images, test_images = training_images / 255.0, test_images / 255.0\n",
    "    # YOUR CODE ENDS HERE\n",
    "\n",
    "    model = tf.keras.models.Sequential([\n",
    "            # YOUR CODE STARTS HERE\n",
    "            tf.keras.layers.Conv2D(64, (3, 3), input_shape = (28, 28, 1), activation = tf.nn.relu),\n",
    "            tf.keras.layers.MaxPooling2D((2, 2)),\n",
    "            tf.keras.layers.Flatten(),\n",
    "            tf.keras.layers.Dense(units = 128, activation = tf.nn.relu),\n",
    "            tf.keras.layers.Dense(units = 10, activation = tf.nn.softmax)\n",
    "            # YOUR CODE ENDS HERE\n",
    "    ])\n",
    "\n",
    "    model.compile(optimizer='adam', loss='sparse_categorical_crossentropy', metrics=['accuracy'])\n",
    "    # model fitting\n",
    "    history = model.fit(\n",
    "        # YOUR CODE STARTS HERE\n",
    "        training_images,\n",
    "        training_labels,\n",
    "        epochs = 25,\n",
    "        callbacks = [my_callback]\n",
    "        # YOUR CODE ENDS HERE\n",
    "    )\n",
    "    # model fitting\n",
    "    return history.epoch, history.history['acc'][-1]\n",
    "\n"
   ]
  },
  {
   "cell_type": "code",
   "execution_count": 11,
   "metadata": {},
   "outputs": [
    {
     "name": "stdout",
     "output_type": "stream",
     "text": [
      "Epoch 1/25\n",
      "60000/60000 [==============================] - 14s 240us/sample - loss: 0.1415 - acc: 0.9574\n",
      "Epoch 2/25\n",
      "60000/60000 [==============================] - 11s 187us/sample - loss: 0.0495 - acc: 0.9851\n",
      "Epoch 3/25\n",
      "60000/60000 [==============================] - 11s 185us/sample - loss: 0.0306 - acc: 0.9908\n",
      "Epoch 4/25\n",
      "60000/60000 [==============================] - 11s 190us/sample - loss: 0.0202 - acc: 0.9936 -\n",
      "Epoch 5/25\n",
      "60000/60000 [==============================] - 11s 191us/sample - loss: 0.0144 - acc: 0.9952\n",
      "Epoch 6/25\n",
      "60000/60000 [==============================] - 11s 192us/sample - loss: 0.0094 - acc: 0.9969\n",
      "Epoch 7/25\n",
      "60000/60000 [==============================] - 12s 195us/sample - loss: 0.0072 - acc: 0.9977\n",
      "Epoch 8/25\n",
      "60000/60000 [==============================] - 12s 193us/sample - loss: 0.0066 - acc: 0.9977\n",
      "Epoch 9/25\n",
      "59584/60000 [============================>.] - ETA: 0s - loss: 0.0049 - acc: 0.9983\n",
      "Reached 99.8% accuracy so cancelling training!\n",
      "60000/60000 [==============================] - 11s 190us/sample - loss: 0.0049 - acc: 0.9983\n"
     ]
    }
   ],
   "source": [
    "_, _ = train_mnist_conv()"
   ]
  },
  {
   "cell_type": "code",
   "execution_count": null,
   "metadata": {},
   "outputs": [],
   "source": [
    "# Now click the 'Submit Assignment' button above.\n",
    "# Once that is complete, please run the following two cells to save your work and close the notebook"
   ]
  },
  {
   "cell_type": "code",
   "execution_count": null,
   "metadata": {},
   "outputs": [],
   "source": [
    "%%javascript\n",
    "<!-- Save the notebook -->\n",
    "IPython.notebook.save_checkpoint();"
   ]
  },
  {
   "cell_type": "code",
   "execution_count": null,
   "metadata": {},
   "outputs": [],
   "source": [
    "%%javascript\n",
    "IPython.notebook.session.delete();\n",
    "window.onbeforeunload = null\n",
    "setTimeout(function() { window.close(); }, 1000);"
   ]
  }
 ],
 "metadata": {
  "coursera": {
   "course_slug": "introduction-tensorflow",
   "graded_item_id": "ml06H",
   "launcher_item_id": "hQF8A"
  },
  "kernelspec": {
   "display_name": "Python 3",
   "language": "python",
   "name": "python3"
  },
  "language_info": {
   "codemirror_mode": {
    "name": "ipython",
    "version": 3
   },
   "file_extension": ".py",
   "mimetype": "text/x-python",
   "name": "python",
   "nbconvert_exporter": "python",
   "pygments_lexer": "ipython3",
   "version": "3.6.8"
  }
 },
 "nbformat": 4,
 "nbformat_minor": 1
}
